{
 "cells": [
  {
   "cell_type": "markdown",
   "metadata": {},
   "source": [
    "## AIML Online Capstone - AUTOMATIC TICKET ASSIGNMENT\n",
    "## The Real Problem\n",
    "One of the key activities of any IT function is to “Keep the lights on” to ensure there is no impact to the\n",
    "Business operations. IT leverages Incident Management process to achieve the\n",
    "above Objective. An incident is something that is unplanned interruption to an IT service or\n",
    "reduction in the quality of an IT service that affects the Users and the Business. The main goal\n",
    "of Incident Management process is to provide a quick fix / workarounds or solutions that resolves the\n",
    "interruption and restores the service to its full capacity to ensure no business impact. In most of the\n",
    "organizations, incidents are created by various Business and IT Users, End Users/ Vendors if they have\n",
    "access to ticketing systems, and from the integrated monitoring systems and tools. Assigning the\n",
    "incidents to the appropriate person or unit in the support team has critical importance to provide\n",
    "improved user satisfaction while ensuring better allocation of support resources. The assignment of\n",
    "incidents to appropriate IT groups is still a manual process in many of the IT organizations. Manual\n",
    "assignment of incidents is time consuming and requires human efforts. There may be mistakes due to\n",
    "human errors and resource consumption is carried out ineffectively because of\n",
    "the misaddressing. On the other hand, manual assignment increases the response and resolution times\n",
    "which result in user satisfaction deterioration / poor customer service.\n",
    "## Business Domain Value\n",
    "In the support process, incoming incidents are analyzed and assessed by organization’s support teams to\n",
    "fulfill the request. In many organizations, better allocation and effective usage of the valuable support\n",
    "resources will directly result in substantial cost savings.\n",
    "Currently the incidents are created by various stakeholders (Business Users, IT Users and Monitoring\n",
    "Tools) within IT Service Management Tool and are assigned to Service Desk teams (L1 / L2 teams). This\n",
    "team will review the incidents for right ticket categorization, priorities and then carry out initial\n",
    "diagnosis to see if they can resolve. Around ~54% of the incidents are resolved by L1 / L2 teams. Incase\n",
    "L1 / L2 is unable to resolve, they will then escalate / assign the tickets to Functional teams from\n",
    "Applications and Infrastructure (L3 teams). Some portions of incidents are directly assigned to L3 teams\n",
    "by either Monitoring tools or Callers / Requestors. L3 teams will carry out detailed diagnosis and resolve\n",
    "the incidents. Around ~56% of incidents are resolved by Functional / L3 teams. Incase if vendor support\n",
    "is needed, they will reach out for their support towards incident closure.\n",
    "L1 / L2 needs to spend time reviewing Standard Operating Procedures (SOPs) before assigning to\n",
    "Functional teams (Minimum ~25-30% of incidents needs to be reviewed for SOPs before ticket\n",
    "assignment). 15 min is being spent for SOP review for each incident. Minimum of ~1 FTE effort needed\n",
    "only for incident assignment to L3 teams.\n",
    "Proprietary content. ©Great Learning. All Rights Reserved. Unauthorized use or distribution prohibited\n",
    "During the process of incident assignments by L1 / L2 teams to functional groups, there were multiple\n",
    "instances of incidents getting assigned to wrong functional groups. Around ~25% of Incidents are\n",
    "wrongly assigned to functional teams. Additional effort needed for Functional teams to re-assign to right\n",
    "functional groups. During this process, some of the incidents are in queue and not addressed timely\n",
    "resulting in poor customer service.\n",
    "Guided by powerful AI techniques that can classify incidents to right functional groups can help\n",
    "organizations to reduce the resolving time of the issue and can focus on more productive tasks.\n",
    "## Project Description\n",
    "In this capstone project, the goal is to build a classifier that can classify the tickets by analyzing text.\n",
    "Details about the data and dataset files are given in below link,\n",
    "https://drive.google.com/open?id=1OZNJm81JXucV3HmZroMq6qCT2m7ez7IJ"
   ]
  },
  {
   "cell_type": "markdown",
   "metadata": {},
   "source": [
    "## Importing neccessary libraries"
   ]
  },
  {
   "cell_type": "code",
   "execution_count": 89,
   "metadata": {},
   "outputs": [],
   "source": [
    "import pandas as pd\n",
    "import numpy as np\n",
    "import seaborn as sns\n",
    "import matplotlib.pyplot as plt\n",
    "import plotly\n",
    "\n",
    "import re\n",
    "\n",
    "from bs4 import BeautifulSoup\n",
    "\n",
    "from fuzzywuzzy import fuzz \n",
    "from fuzzywuzzy import process\n",
    "\n",
    "import ftfy\n",
    "from ftfy.badness import sequence_weirdness\n",
    "import chardet\n",
    "import googletrans\n",
    "from googletrans import Translator\n",
    "from textblob import TextBlob\n",
    "import spacy\n",
    "from spacy_langdetect import LanguageDetector\n",
    "import spacy_langdetect\n",
    "from spacy.tokens import Doc, Span\n",
    "import string\n",
    "import xml.etree\n",
    "\n",
    "from emot.emo_unicode import UNICODE_EMO, EMOTICONS\n"
   ]
  },
  {
   "cell_type": "markdown",
   "metadata": {},
   "source": [
    "## Reading the data"
   ]
  },
  {
   "cell_type": "code",
   "execution_count": 90,
   "metadata": {},
   "outputs": [],
   "source": [
    "df = pd.read_excel(\"C:\\GL AIML program\\input_data.xlsx\")"
   ]
  },
  {
   "cell_type": "code",
   "execution_count": 91,
   "metadata": {},
   "outputs": [
    {
     "output_type": "execute_result",
     "data": {
      "text/plain": "               Short description  \\\n0                    login issue   \n1                        outlook   \n2             cant log in to vpn   \n3  unable to access hr_tool page   \n4                   skype error    \n\n                                         Description             Caller  \\\n0  -verified user details.(employee# & manager na...  spxjnwir pjlcoqds   \n1  \\r\\n\\r\\nreceived from: hmjdrvpb.komuaywn@gmail...  hmjdrvpb komuaywn   \n2  \\r\\n\\r\\nreceived from: eylqgodm.ybqkwiam@gmail...  eylqgodm ybqkwiam   \n3                      unable to access hr_tool page  xbkucsvz gcpydteq   \n4                                       skype error   owlgqjme qhcozdfx   \n\n  Assignment group  \n0            GRP_0  \n1            GRP_0  \n2            GRP_0  \n3            GRP_0  \n4            GRP_0  ",
      "text/html": "<div>\n<style scoped>\n    .dataframe tbody tr th:only-of-type {\n        vertical-align: middle;\n    }\n\n    .dataframe tbody tr th {\n        vertical-align: top;\n    }\n\n    .dataframe thead th {\n        text-align: right;\n    }\n</style>\n<table border=\"1\" class=\"dataframe\">\n  <thead>\n    <tr style=\"text-align: right;\">\n      <th></th>\n      <th>Short description</th>\n      <th>Description</th>\n      <th>Caller</th>\n      <th>Assignment group</th>\n    </tr>\n  </thead>\n  <tbody>\n    <tr>\n      <th>0</th>\n      <td>login issue</td>\n      <td>-verified user details.(employee# &amp; manager na...</td>\n      <td>spxjnwir pjlcoqds</td>\n      <td>GRP_0</td>\n    </tr>\n    <tr>\n      <th>1</th>\n      <td>outlook</td>\n      <td>\\r\\n\\r\\nreceived from: hmjdrvpb.komuaywn@gmail...</td>\n      <td>hmjdrvpb komuaywn</td>\n      <td>GRP_0</td>\n    </tr>\n    <tr>\n      <th>2</th>\n      <td>cant log in to vpn</td>\n      <td>\\r\\n\\r\\nreceived from: eylqgodm.ybqkwiam@gmail...</td>\n      <td>eylqgodm ybqkwiam</td>\n      <td>GRP_0</td>\n    </tr>\n    <tr>\n      <th>3</th>\n      <td>unable to access hr_tool page</td>\n      <td>unable to access hr_tool page</td>\n      <td>xbkucsvz gcpydteq</td>\n      <td>GRP_0</td>\n    </tr>\n    <tr>\n      <th>4</th>\n      <td>skype error</td>\n      <td>skype error</td>\n      <td>owlgqjme qhcozdfx</td>\n      <td>GRP_0</td>\n    </tr>\n  </tbody>\n</table>\n</div>"
     },
     "metadata": {},
     "execution_count": 91
    }
   ],
   "source": [
    "    df.head()"
   ]
  },
  {
   "cell_type": "code",
   "execution_count": 92,
   "metadata": {},
   "outputs": [
    {
     "output_type": "execute_result",
     "data": {
      "text/plain": "(8500, 4)"
     },
     "metadata": {},
     "execution_count": 92
    }
   ],
   "source": [
    "df.shape"
   ]
  },
  {
   "cell_type": "code",
   "execution_count": 93,
   "metadata": {},
   "outputs": [
    {
     "output_type": "stream",
     "name": "stdout",
     "text": "<class 'pandas.core.frame.DataFrame'>\nRangeIndex: 8500 entries, 0 to 8499\nData columns (total 4 columns):\nShort description    8492 non-null object\nDescription          8499 non-null object\nCaller               8500 non-null object\nAssignment group     8500 non-null object\ndtypes: object(4)\nmemory usage: 265.8+ KB\n"
    }
   ],
   "source": [
    "df.info()"
   ]
  },
  {
   "cell_type": "code",
   "execution_count": 94,
   "metadata": {},
   "outputs": [
    {
     "output_type": "execute_result",
     "data": {
      "text/plain": "                  count unique                top  freq\nShort description  8492   7481     password reset    38\nDescription        8499   7817                the    56\nCaller             8500   2950  bpctwhsn kzqsbmtp   810\nAssignment group   8500     74              GRP_0  3976",
      "text/html": "<div>\n<style scoped>\n    .dataframe tbody tr th:only-of-type {\n        vertical-align: middle;\n    }\n\n    .dataframe tbody tr th {\n        vertical-align: top;\n    }\n\n    .dataframe thead th {\n        text-align: right;\n    }\n</style>\n<table border=\"1\" class=\"dataframe\">\n  <thead>\n    <tr style=\"text-align: right;\">\n      <th></th>\n      <th>count</th>\n      <th>unique</th>\n      <th>top</th>\n      <th>freq</th>\n    </tr>\n  </thead>\n  <tbody>\n    <tr>\n      <th>Short description</th>\n      <td>8492</td>\n      <td>7481</td>\n      <td>password reset</td>\n      <td>38</td>\n    </tr>\n    <tr>\n      <th>Description</th>\n      <td>8499</td>\n      <td>7817</td>\n      <td>the</td>\n      <td>56</td>\n    </tr>\n    <tr>\n      <th>Caller</th>\n      <td>8500</td>\n      <td>2950</td>\n      <td>bpctwhsn kzqsbmtp</td>\n      <td>810</td>\n    </tr>\n    <tr>\n      <th>Assignment group</th>\n      <td>8500</td>\n      <td>74</td>\n      <td>GRP_0</td>\n      <td>3976</td>\n    </tr>\n  </tbody>\n</table>\n</div>"
     },
     "metadata": {},
     "execution_count": 94
    }
   ],
   "source": [
    "df.describe().transpose()"
   ]
  },
  {
   "cell_type": "markdown",
   "metadata": {},
   "source": [
    "## Handling missing value"
   ]
  },
  {
   "cell_type": "code",
   "execution_count": 95,
   "metadata": {},
   "outputs": [
    {
     "output_type": "execute_result",
     "data": {
      "text/plain": "Short description    8\nDescription          1\nCaller               0\nAssignment group     0\ndtype: int64"
     },
     "metadata": {},
     "execution_count": 95
    }
   ],
   "source": [
    "df.isnull().sum()"
   ]
  },
  {
   "cell_type": "code",
   "execution_count": 96,
   "metadata": {},
   "outputs": [
    {
     "output_type": "execute_result",
     "data": {
      "text/plain": "             Short description  \\\n2604                       NaN   \n3383                       NaN   \n3906                       NaN   \n3910                       NaN   \n3915                       NaN   \n3921                       NaN   \n3924                       NaN   \n4341                       NaN   \n4395  i am locked out of skype   \n\n                                            Description             Caller  \\\n2604  \\r\\n\\r\\nreceived from: ohdrnswl.rezuibdt@gmail...  ohdrnswl rezuibdt   \n3383  \\r\\n-connected to the user system using teamvi...  qftpazns fxpnytmk   \n3906  -user unable  tologin to vpn.\\r\\n-connected to...  awpcmsey ctdiuqwe   \n3910  -user unable  tologin to vpn.\\r\\n-connected to...  rhwsmefo tvphyura   \n3915  -user unable  tologin to vpn.\\r\\n-connected to...  hxripljo efzounig   \n3921  -user unable  tologin to vpn.\\r\\n-connected to...  cziadygo veiosxby   \n3924  name:wvqgbdhm fwchqjor\\nlanguage:\\nbrowser:mic...  wvqgbdhm fwchqjor   \n4341  \\r\\n\\r\\nreceived from: eqmuniov.ehxkcbgj@gmail...  eqmuniov ehxkcbgj   \n4395                                                NaN  viyglzfo ajtfzpkb   \n\n     Assignment group  \n2604           GRP_34  \n3383            GRP_0  \n3906            GRP_0  \n3910            GRP_0  \n3915            GRP_0  \n3921            GRP_0  \n3924            GRP_0  \n4341            GRP_0  \n4395            GRP_0  ",
      "text/html": "<div>\n<style scoped>\n    .dataframe tbody tr th:only-of-type {\n        vertical-align: middle;\n    }\n\n    .dataframe tbody tr th {\n        vertical-align: top;\n    }\n\n    .dataframe thead th {\n        text-align: right;\n    }\n</style>\n<table border=\"1\" class=\"dataframe\">\n  <thead>\n    <tr style=\"text-align: right;\">\n      <th></th>\n      <th>Short description</th>\n      <th>Description</th>\n      <th>Caller</th>\n      <th>Assignment group</th>\n    </tr>\n  </thead>\n  <tbody>\n    <tr>\n      <th>2604</th>\n      <td>NaN</td>\n      <td>\\r\\n\\r\\nreceived from: ohdrnswl.rezuibdt@gmail...</td>\n      <td>ohdrnswl rezuibdt</td>\n      <td>GRP_34</td>\n    </tr>\n    <tr>\n      <th>3383</th>\n      <td>NaN</td>\n      <td>\\r\\n-connected to the user system using teamvi...</td>\n      <td>qftpazns fxpnytmk</td>\n      <td>GRP_0</td>\n    </tr>\n    <tr>\n      <th>3906</th>\n      <td>NaN</td>\n      <td>-user unable  tologin to vpn.\\r\\n-connected to...</td>\n      <td>awpcmsey ctdiuqwe</td>\n      <td>GRP_0</td>\n    </tr>\n    <tr>\n      <th>3910</th>\n      <td>NaN</td>\n      <td>-user unable  tologin to vpn.\\r\\n-connected to...</td>\n      <td>rhwsmefo tvphyura</td>\n      <td>GRP_0</td>\n    </tr>\n    <tr>\n      <th>3915</th>\n      <td>NaN</td>\n      <td>-user unable  tologin to vpn.\\r\\n-connected to...</td>\n      <td>hxripljo efzounig</td>\n      <td>GRP_0</td>\n    </tr>\n    <tr>\n      <th>3921</th>\n      <td>NaN</td>\n      <td>-user unable  tologin to vpn.\\r\\n-connected to...</td>\n      <td>cziadygo veiosxby</td>\n      <td>GRP_0</td>\n    </tr>\n    <tr>\n      <th>3924</th>\n      <td>NaN</td>\n      <td>name:wvqgbdhm fwchqjor\\nlanguage:\\nbrowser:mic...</td>\n      <td>wvqgbdhm fwchqjor</td>\n      <td>GRP_0</td>\n    </tr>\n    <tr>\n      <th>4341</th>\n      <td>NaN</td>\n      <td>\\r\\n\\r\\nreceived from: eqmuniov.ehxkcbgj@gmail...</td>\n      <td>eqmuniov ehxkcbgj</td>\n      <td>GRP_0</td>\n    </tr>\n    <tr>\n      <th>4395</th>\n      <td>i am locked out of skype</td>\n      <td>NaN</td>\n      <td>viyglzfo ajtfzpkb</td>\n      <td>GRP_0</td>\n    </tr>\n  </tbody>\n</table>\n</div>"
     },
     "metadata": {},
     "execution_count": 96
    }
   ],
   "source": [
    "df[df.isna().any(axis=1)]"
   ]
  },
  {
   "cell_type": "code",
   "execution_count": 97,
   "metadata": {},
   "outputs": [
    {
     "output_type": "execute_result",
     "data": {
      "text/plain": "                                      Short description Description  \\\n1049  reset passwords for soldfnbq uhnbsvqd using pa...         the   \n1054  reset passwords for fygrwuna gomcekzi using pa...         the   \n1144  reset passwords for wvdxnkhf jirecvta using pa...         the   \n1184  reset passwords for pxvjczdt kizsjfpq using pa...         the   \n1292  reset passwords for cubdsrml znewqgop using pa...         the   \n\n                 Caller Assignment group  \n1049  soldfnbq uhnbsvqd           GRP_17  \n1054  fygrwuna gomcekzi           GRP_17  \n1144  wvdxnkhf jirecvta           GRP_17  \n1184  pxvjczdt kizsjfpq           GRP_17  \n1292  cubdsrml znewqgop           GRP_17  ",
      "text/html": "<div>\n<style scoped>\n    .dataframe tbody tr th:only-of-type {\n        vertical-align: middle;\n    }\n\n    .dataframe tbody tr th {\n        vertical-align: top;\n    }\n\n    .dataframe thead th {\n        text-align: right;\n    }\n</style>\n<table border=\"1\" class=\"dataframe\">\n  <thead>\n    <tr style=\"text-align: right;\">\n      <th></th>\n      <th>Short description</th>\n      <th>Description</th>\n      <th>Caller</th>\n      <th>Assignment group</th>\n    </tr>\n  </thead>\n  <tbody>\n    <tr>\n      <th>1049</th>\n      <td>reset passwords for soldfnbq uhnbsvqd using pa...</td>\n      <td>the</td>\n      <td>soldfnbq uhnbsvqd</td>\n      <td>GRP_17</td>\n    </tr>\n    <tr>\n      <th>1054</th>\n      <td>reset passwords for fygrwuna gomcekzi using pa...</td>\n      <td>the</td>\n      <td>fygrwuna gomcekzi</td>\n      <td>GRP_17</td>\n    </tr>\n    <tr>\n      <th>1144</th>\n      <td>reset passwords for wvdxnkhf jirecvta using pa...</td>\n      <td>the</td>\n      <td>wvdxnkhf jirecvta</td>\n      <td>GRP_17</td>\n    </tr>\n    <tr>\n      <th>1184</th>\n      <td>reset passwords for pxvjczdt kizsjfpq using pa...</td>\n      <td>the</td>\n      <td>pxvjczdt kizsjfpq</td>\n      <td>GRP_17</td>\n    </tr>\n    <tr>\n      <th>1292</th>\n      <td>reset passwords for cubdsrml znewqgop using pa...</td>\n      <td>the</td>\n      <td>cubdsrml znewqgop</td>\n      <td>GRP_17</td>\n    </tr>\n  </tbody>\n</table>\n</div>"
     },
     "metadata": {},
     "execution_count": 97
    }
   ],
   "source": [
    "    df[df.values  == \"the\"].head()\n"
   ]
  },
  {
   "cell_type": "code",
   "execution_count": 98,
   "metadata": {},
   "outputs": [
    {
     "output_type": "execute_result",
     "data": {
      "text/plain": "               Short description  \\\n0                    login issue   \n1                        outlook   \n2             cant log in to vpn   \n3  unable to access hr_tool page   \n4                   skype error    \n\n                                         Description             Caller  \\\n0  -verified user details.(employee# & manager na...  spxjnwir pjlcoqds   \n1  \\r\\n\\r\\nreceived from: hmjdrvpb.komuaywn@gmail...  hmjdrvpb komuaywn   \n2  \\r\\n\\r\\nreceived from: eylqgodm.ybqkwiam@gmail...  eylqgodm ybqkwiam   \n3                      unable to access hr_tool page  xbkucsvz gcpydteq   \n4                                       skype error   owlgqjme qhcozdfx   \n\n  Assignment group                                  final_Description  \n0            GRP_0  -verified user details.(employee# & manager na...  \n1            GRP_0  \\r\\n\\r\\nreceived from: hmjdrvpb.komuaywn@gmail...  \n2            GRP_0  \\r\\n\\r\\nreceived from: eylqgodm.ybqkwiam@gmail...  \n3            GRP_0  unable to access hr_tool page unable to access...  \n4            GRP_0                          skype error  skype error   ",
      "text/html": "<div>\n<style scoped>\n    .dataframe tbody tr th:only-of-type {\n        vertical-align: middle;\n    }\n\n    .dataframe tbody tr th {\n        vertical-align: top;\n    }\n\n    .dataframe thead th {\n        text-align: right;\n    }\n</style>\n<table border=\"1\" class=\"dataframe\">\n  <thead>\n    <tr style=\"text-align: right;\">\n      <th></th>\n      <th>Short description</th>\n      <th>Description</th>\n      <th>Caller</th>\n      <th>Assignment group</th>\n      <th>final_Description</th>\n    </tr>\n  </thead>\n  <tbody>\n    <tr>\n      <th>0</th>\n      <td>login issue</td>\n      <td>-verified user details.(employee# &amp; manager na...</td>\n      <td>spxjnwir pjlcoqds</td>\n      <td>GRP_0</td>\n      <td>-verified user details.(employee# &amp; manager na...</td>\n    </tr>\n    <tr>\n      <th>1</th>\n      <td>outlook</td>\n      <td>\\r\\n\\r\\nreceived from: hmjdrvpb.komuaywn@gmail...</td>\n      <td>hmjdrvpb komuaywn</td>\n      <td>GRP_0</td>\n      <td>\\r\\n\\r\\nreceived from: hmjdrvpb.komuaywn@gmail...</td>\n    </tr>\n    <tr>\n      <th>2</th>\n      <td>cant log in to vpn</td>\n      <td>\\r\\n\\r\\nreceived from: eylqgodm.ybqkwiam@gmail...</td>\n      <td>eylqgodm ybqkwiam</td>\n      <td>GRP_0</td>\n      <td>\\r\\n\\r\\nreceived from: eylqgodm.ybqkwiam@gmail...</td>\n    </tr>\n    <tr>\n      <th>3</th>\n      <td>unable to access hr_tool page</td>\n      <td>unable to access hr_tool page</td>\n      <td>xbkucsvz gcpydteq</td>\n      <td>GRP_0</td>\n      <td>unable to access hr_tool page unable to access...</td>\n    </tr>\n    <tr>\n      <th>4</th>\n      <td>skype error</td>\n      <td>skype error</td>\n      <td>owlgqjme qhcozdfx</td>\n      <td>GRP_0</td>\n      <td>skype error  skype error</td>\n    </tr>\n  </tbody>\n</table>\n</div>"
     },
     "metadata": {},
     "execution_count": 98
    }
   ],
   "source": [
    "df['final_Description'] = df['Description'].map(str) +\" \" + df['Short description'].map(str)\n",
    "df.head()"
   ]
  },
  {
   "cell_type": "markdown",
   "metadata": {},
   "source": [
    "## Data preprocessing and Cleaning"
   ]
  },
  {
   "cell_type": "code",
   "execution_count": 99,
   "metadata": {},
   "outputs": [],
   "source": [
    "#Function for removing html\n",
    "def html(text):\n",
    "    return BeautifulSoup(text, \"lxml\").text\n",
    "\n",
    "df['Description_clean'] = df['final_Description'].apply(html)"
   ]
  },
  {
   "cell_type": "code",
   "execution_count": 100,
   "metadata": {},
   "outputs": [],
   "source": [
    "df['Description_clean'] = df['Description_clean'].replace(to_replace ='\\r\\n', value = \" \", regex = True)"
   ]
  },
  {
   "cell_type": "code",
   "execution_count": 101,
   "metadata": {},
   "outputs": [
    {
     "output_type": "execute_result",
     "data": {
      "text/plain": "'received from: hmjdrvpb.komuaywn@gmail.com  hello team,  my meetings/skype meetings etc are not appearing in my outlook calendar, can somebody please advise how to correct this?  kind  outlook'"
     },
     "metadata": {},
     "execution_count": 101
    }
   ],
   "source": [
    "df['Description_clean'].iloc[1]"
   ]
  },
  {
   "cell_type": "code",
   "execution_count": 102,
   "metadata": {},
   "outputs": [],
   "source": [
    "df['Description_clean'] = df['Description_clean'].replace(to_replace =\"([a-zA-Z0-9_.+-]+@[a-zA-Z0-9-]+\\.[a-zA-Z0-9-.]+)\", value = 'emailid', regex = True)"
   ]
  },
  {
   "cell_type": "code",
   "execution_count": 103,
   "metadata": {},
   "outputs": [],
   "source": [
    "\n",
    "# Function for removing emoticons\n",
    "def remove_emoticons(text):\n",
    "    emoticon_pattern = re.compile(u'(' + u'|'.join(k for k in EMOTICONS) + u')')\n",
    "    return emoticon_pattern.sub(r'', text)\n",
    "# applying remove_emoticons to 'Description'\n",
    "df['Description_clean'] = df['Description_clean'].apply(remove_emoticons)"
   ]
  },
  {
   "cell_type": "code",
   "execution_count": 104,
   "metadata": {},
   "outputs": [
    {
     "output_type": "stream",
     "name": "stdout",
     "text": "Description: \n hallo, kannst du einmal nachsehen, wo der e-mail button ist am drucker. er ist weg! :-) danke. uwe\nCleaned data: \n hallo, kannst du einmal nachsehen, wo der e-mail button ist am drucker. er ist weg!  danke. uwe wk38 - qdxyifhj zbwtunpy\n"
    }
   ],
   "source": [
    "print(\"Description: \\n\", df['Description'][582])\n",
    "print(\"Cleaned data: \\n\", df['Description_clean'][582])"
   ]
  },
  {
   "cell_type": "code",
   "execution_count": 105,
   "metadata": {},
   "outputs": [],
   "source": [
    "# Spell check using text blob for the first 5 records\n",
    "#df['Description_clean'][:5].apply(lambda x: str(TextBlob(x).correct())) \n"
   ]
  },
  {
   "cell_type": "code",
   "execution_count": 106,
   "metadata": {},
   "outputs": [
    {
     "output_type": "execute_result",
     "data": {
      "text/plain": "                                Short description  \\\n99                       password expiry tomorrow   \n116                                 server issues   \n124                      mobile device activation   \n164    æ’¤å›ž: ticket_no1564867 -- comments added   \n170  [urgent!!] delivery note creation request!!    \n\n                                           Description             Caller  \\\n99   \\n\\nreceived from: ecprjbod.litmjwsy@gmail.com...  ecprjbod litmjwsy   \n116  \\r\\n\\r\\nreceived from: bgqpotek.cuxakvml@gmail...  bgqpotek cuxakvml   \n124  from: tvcdfqgp nrbcqwgj \\nsent: friday, octobe...  tvcdfqgp nrbcqwgj   \n164  \\n\\nreceived from: abcdri@company.com\\n\\nwindy...  tycludks cjofwigv   \n170  \\n\\nreceived from: fbvpcytz.nokypgvx@gmail.com...  fbvpcytz nokypgvx   \n\n    Assignment group                                  final_Description  \\\n99             GRP_0  \\n\\nreceived from: ecprjbod.litmjwsy@gmail.com...   \n116            GRP_0  \\r\\n\\r\\nreceived from: bgqpotek.cuxakvml@gmail...   \n124            GRP_0  from: tvcdfqgp nrbcqwgj \\nsent: friday, octobe...   \n164            GRP_0  \\n\\nreceived from: abcdri@company.com\\n\\nwindy...   \n170           GRP_18  \\n\\nreceived from: fbvpcytz.nokypgvx@gmail.com...   \n\n                                     Description_clean  Unicode  \n99   received from: emailid\\n\\nmy system says my pa...    False  \n116  received from: emailid  hello,  i have been tr...    False  \n124  from: tvcdfqgp nrbcqwgj \\nsent: friday, octobe...    False  \n164  received from: emailid\\n\\nwindy shi å°†æ’¤å›žé...    False  \n170  received from: emailid\\n\\nhello it team,\\n\\nco...    False  ",
      "text/html": "<div>\n<style scoped>\n    .dataframe tbody tr th:only-of-type {\n        vertical-align: middle;\n    }\n\n    .dataframe tbody tr th {\n        vertical-align: top;\n    }\n\n    .dataframe thead th {\n        text-align: right;\n    }\n</style>\n<table border=\"1\" class=\"dataframe\">\n  <thead>\n    <tr style=\"text-align: right;\">\n      <th></th>\n      <th>Short description</th>\n      <th>Description</th>\n      <th>Caller</th>\n      <th>Assignment group</th>\n      <th>final_Description</th>\n      <th>Description_clean</th>\n      <th>Unicode</th>\n    </tr>\n  </thead>\n  <tbody>\n    <tr>\n      <th>99</th>\n      <td>password expiry tomorrow</td>\n      <td>\\n\\nreceived from: ecprjbod.litmjwsy@gmail.com...</td>\n      <td>ecprjbod litmjwsy</td>\n      <td>GRP_0</td>\n      <td>\\n\\nreceived from: ecprjbod.litmjwsy@gmail.com...</td>\n      <td>received from: emailid\\n\\nmy system says my pa...</td>\n      <td>False</td>\n    </tr>\n    <tr>\n      <th>116</th>\n      <td>server issues</td>\n      <td>\\r\\n\\r\\nreceived from: bgqpotek.cuxakvml@gmail...</td>\n      <td>bgqpotek cuxakvml</td>\n      <td>GRP_0</td>\n      <td>\\r\\n\\r\\nreceived from: bgqpotek.cuxakvml@gmail...</td>\n      <td>received from: emailid  hello,  i have been tr...</td>\n      <td>False</td>\n    </tr>\n    <tr>\n      <th>124</th>\n      <td>mobile device activation</td>\n      <td>from: tvcdfqgp nrbcqwgj \\nsent: friday, octobe...</td>\n      <td>tvcdfqgp nrbcqwgj</td>\n      <td>GRP_0</td>\n      <td>from: tvcdfqgp nrbcqwgj \\nsent: friday, octobe...</td>\n      <td>from: tvcdfqgp nrbcqwgj \\nsent: friday, octobe...</td>\n      <td>False</td>\n    </tr>\n    <tr>\n      <th>164</th>\n      <td>æ’¤å›ž: ticket_no1564867 -- comments added</td>\n      <td>\\n\\nreceived from: abcdri@company.com\\n\\nwindy...</td>\n      <td>tycludks cjofwigv</td>\n      <td>GRP_0</td>\n      <td>\\n\\nreceived from: abcdri@company.com\\n\\nwindy...</td>\n      <td>received from: emailid\\n\\nwindy shi å°†æ’¤å›žé...</td>\n      <td>False</td>\n    </tr>\n    <tr>\n      <th>170</th>\n      <td>[urgent!!] delivery note creation request!!</td>\n      <td>\\n\\nreceived from: fbvpcytz.nokypgvx@gmail.com...</td>\n      <td>fbvpcytz nokypgvx</td>\n      <td>GRP_18</td>\n      <td>\\n\\nreceived from: fbvpcytz.nokypgvx@gmail.com...</td>\n      <td>received from: emailid\\n\\nhello it team,\\n\\nco...</td>\n      <td>False</td>\n    </tr>\n  </tbody>\n</table>\n</div>"
     },
     "metadata": {},
     "execution_count": 106
    }
   ],
   "source": [
    "def is_valid_unicode_str(text):\n",
    "    if not sequence_weirdness(text):\n",
    "        # nothing weird, should be okay\n",
    "        return True\n",
    "    try:\n",
    "        text.encode('sloppy-windows-1252')\n",
    "    except UnicodeEncodeError:\n",
    "        # Not CP-1252 encodable, probably fine\n",
    "        return True\n",
    "    else:\n",
    "        # Encodable as CP-1252, Mojibake alert level high\n",
    "        return False\n",
    "\n",
    "df['Unicode'] = df['Description_clean'].apply(lambda x: is_valid_unicode_str(x))\n",
    "df.loc[df['Unicode'] == False].head()"
   ]
  },
  {
   "cell_type": "code",
   "execution_count": 107,
   "metadata": {},
   "outputs": [
    {
     "output_type": "execute_result",
     "data": {
      "text/plain": "                                Short description  \\\n99                       password expiry tomorrow   \n116                                 server issues   \n124                      mobile device activation   \n164    æ’¤å›ž: ticket_no1564867 -- comments added   \n170  [urgent!!] delivery note creation request!!    \n\n                                           Description             Caller  \\\n99   \\n\\nreceived from: ecprjbod.litmjwsy@gmail.com...  ecprjbod litmjwsy   \n116  \\r\\n\\r\\nreceived from: bgqpotek.cuxakvml@gmail...  bgqpotek cuxakvml   \n124  from: tvcdfqgp nrbcqwgj \\nsent: friday, octobe...  tvcdfqgp nrbcqwgj   \n164  \\n\\nreceived from: abcdri@company.com\\n\\nwindy...  tycludks cjofwigv   \n170  \\n\\nreceived from: fbvpcytz.nokypgvx@gmail.com...  fbvpcytz nokypgvx   \n\n    Assignment group                                  final_Description  \\\n99             GRP_0  \\n\\nreceived from: ecprjbod.litmjwsy@gmail.com...   \n116            GRP_0  \\r\\n\\r\\nreceived from: bgqpotek.cuxakvml@gmail...   \n124            GRP_0  from: tvcdfqgp nrbcqwgj \\nsent: friday, octobe...   \n164            GRP_0  \\n\\nreceived from: abcdri@company.com\\n\\nwindy...   \n170           GRP_18  \\n\\nreceived from: fbvpcytz.nokypgvx@gmail.com...   \n\n                                     Description_clean  Unicode  \n99   received from: emailid\\n\\nmy system says my pa...    False  \n116  received from: emailid  hello,  i have been tr...    False  \n124  from: tvcdfqgp nrbcqwgj \\nsent: friday, octobe...    False  \n164  received from: emailid\\n\\nwindy shi 将撤回邮件\"tick...    False  \n170  received from: emailid\\n\\nhello it team,\\n\\nco...    False  ",
      "text/html": "<div>\n<style scoped>\n    .dataframe tbody tr th:only-of-type {\n        vertical-align: middle;\n    }\n\n    .dataframe tbody tr th {\n        vertical-align: top;\n    }\n\n    .dataframe thead th {\n        text-align: right;\n    }\n</style>\n<table border=\"1\" class=\"dataframe\">\n  <thead>\n    <tr style=\"text-align: right;\">\n      <th></th>\n      <th>Short description</th>\n      <th>Description</th>\n      <th>Caller</th>\n      <th>Assignment group</th>\n      <th>final_Description</th>\n      <th>Description_clean</th>\n      <th>Unicode</th>\n    </tr>\n  </thead>\n  <tbody>\n    <tr>\n      <th>99</th>\n      <td>password expiry tomorrow</td>\n      <td>\\n\\nreceived from: ecprjbod.litmjwsy@gmail.com...</td>\n      <td>ecprjbod litmjwsy</td>\n      <td>GRP_0</td>\n      <td>\\n\\nreceived from: ecprjbod.litmjwsy@gmail.com...</td>\n      <td>received from: emailid\\n\\nmy system says my pa...</td>\n      <td>False</td>\n    </tr>\n    <tr>\n      <th>116</th>\n      <td>server issues</td>\n      <td>\\r\\n\\r\\nreceived from: bgqpotek.cuxakvml@gmail...</td>\n      <td>bgqpotek cuxakvml</td>\n      <td>GRP_0</td>\n      <td>\\r\\n\\r\\nreceived from: bgqpotek.cuxakvml@gmail...</td>\n      <td>received from: emailid  hello,  i have been tr...</td>\n      <td>False</td>\n    </tr>\n    <tr>\n      <th>124</th>\n      <td>mobile device activation</td>\n      <td>from: tvcdfqgp nrbcqwgj \\nsent: friday, octobe...</td>\n      <td>tvcdfqgp nrbcqwgj</td>\n      <td>GRP_0</td>\n      <td>from: tvcdfqgp nrbcqwgj \\nsent: friday, octobe...</td>\n      <td>from: tvcdfqgp nrbcqwgj \\nsent: friday, octobe...</td>\n      <td>False</td>\n    </tr>\n    <tr>\n      <th>164</th>\n      <td>æ’¤å›ž: ticket_no1564867 -- comments added</td>\n      <td>\\n\\nreceived from: abcdri@company.com\\n\\nwindy...</td>\n      <td>tycludks cjofwigv</td>\n      <td>GRP_0</td>\n      <td>\\n\\nreceived from: abcdri@company.com\\n\\nwindy...</td>\n      <td>received from: emailid\\n\\nwindy shi 将撤回邮件\"tick...</td>\n      <td>False</td>\n    </tr>\n    <tr>\n      <th>170</th>\n      <td>[urgent!!] delivery note creation request!!</td>\n      <td>\\n\\nreceived from: fbvpcytz.nokypgvx@gmail.com...</td>\n      <td>fbvpcytz nokypgvx</td>\n      <td>GRP_18</td>\n      <td>\\n\\nreceived from: fbvpcytz.nokypgvx@gmail.com...</td>\n      <td>received from: emailid\\n\\nhello it team,\\n\\nco...</td>\n      <td>False</td>\n    </tr>\n  </tbody>\n</table>\n</div>"
     },
     "metadata": {},
     "execution_count": 107
    }
   ],
   "source": [
    "df['Description_clean'] = df['Description_clean'].apply(lambda x: ftfy.fix_text(x))\n",
    "df.loc[df['Unicode'] == False].head()"
   ]
  },
  {
   "cell_type": "code",
   "execution_count": 108,
   "metadata": {},
   "outputs": [],
   "source": [
    "def remove_punctuation(text):\n",
    "  no_punct = \"\".join([c for c in text if c not in string.punctuation])\n",
    "  return no_punct"
   ]
  },
  {
   "cell_type": "code",
   "execution_count": 109,
   "metadata": {},
   "outputs": [
    {
     "output_type": "execute_result",
     "data": {
      "text/plain": "0    verified user detailsemployee  manager name ch...\n1    received from emailid  hello team  my meetings...\n2    received from emailid  hi  i cannot log on to ...\n3    unable to access hrtool page unable to access ...\n4                            skype error  skype error \nName: Description_clean, dtype: object"
     },
     "metadata": {},
     "execution_count": 109
    }
   ],
   "source": [
    "df['Description_clean'] = df['Description_clean'].apply(lambda x: remove_punctuation(x))\n",
    "df['Description_clean'].head()"
   ]
  },
  {
   "cell_type": "code",
   "execution_count": 110,
   "metadata": {},
   "outputs": [
    {
     "output_type": "execute_result",
     "data": {
      "text/plain": "0    verified user detailsemployee manager name che...\n1    received from emailid hello team my meetingssk...\n2    received from emailid hi i cannot log on to vp...\n3                         unable to access hrtool page\n4                                          skype error\nName: Description_clean, dtype: object"
     },
     "metadata": {},
     "execution_count": 110
    }
   ],
   "source": [
    "def uniquify(string):\n",
    "    output = []\n",
    "    seen = set()\n",
    "    for word in string.split():\n",
    "        if word not in seen:\n",
    "            output.append(word)\n",
    "            seen.add(word)\n",
    "    return ' '.join(output)\n",
    "\n",
    "df['Description_clean'] = df['Description_clean'].apply(lambda x: uniquify(x))\n",
    "df['Description_clean'].head()\n"
   ]
  },
  {
   "cell_type": "code",
   "execution_count": 111,
   "metadata": {},
   "outputs": [
    {
     "output_type": "stream",
     "name": "stdout",
     "text": "en\n-verified {'language': 'af', 'score': 0.999995720574847}\nuser details.(employee# & manager name)-checked the user name in ad and reset the password.-advised {'language': 'en', 'score': 0.9999954685226186}\nthe user to login and check.-caller confirmed that he was able to login.-issue resolved. {'language': 'en', 'score': 0.9999957742918021}\nlogin issue {'language': 'fr', 'score': 0.42856975269216213}\n"
    }
   ],
   "source": [
    "\n",
    "nlp =spacy.load(r\"C:\\Users\\vijpal\\AppData\\Local\\Continuum\\anaconda3\\Lib\\site-packages\\en_core_web_sm\\en_core_web_sm-2.2.5\")\n",
    "nlp.add_pipe(LanguageDetector(), name=\"language_detector\", last=True)\n",
    "text = '-verified user details.(employee# & manager name)-checked the user name in ad and reset the password.-advised the user to login and check.-caller confirmed that he was able to login.-issue resolved. login issue'\n",
    "doc = nlp(text)\n",
    "# document level language detection. Think of it like average language of document!\n",
    "print(doc._.language['language'])\n",
    "# sentence level language detection\n",
    "for i, sent in enumerate(doc.sents):\n",
    "    print(sent, sent._.language)"
   ]
  },
  {
   "cell_type": "code",
   "execution_count": 112,
   "metadata": {},
   "outputs": [],
   "source": [
    "nlp =spacy.load(r\"C:\\Users\\vijpal\\AppData\\Local\\Continuum\\anaconda3\\Lib\\site-packages\\en_core_web_sm\\en_core_web_sm-2.2.5\")\n",
    "nlp.add_pipe(LanguageDetector(), name=\"language_detector\", last=True)\n",
    "\n",
    "def detect_language(text):\n",
    "    doc = nlp(text)\n",
    "    # document level language detection. Think of it like average language of document!\n",
    "    for i, sent in enumerate(doc.sents):\n",
    "        return sent, sent._.language"
   ]
  },
  {
   "cell_type": "code",
   "execution_count": 113,
   "metadata": {
    "tags": [
     "outputPrepend",
     "outputPrepend",
     "outputPrepend",
     "outputPrepend",
     "outputPrepend"
    ]
   },
   "outputs": [
    {
     "output_type": "execute_result",
     "data": {
      "text/plain": "0    ((verified, user, detailsemployee, manager, na...\n1    ((received, from, emailid, hello, team), {'lan...\n2    ((received, from, emailid), {'language': 'en',...\n3    ((unable, to, access, hrtool, page), {'languag...\n4    ((skype, error), {'language': 'no', 'score': 0...\nName: Language, dtype: object"
     },
     "metadata": {},
     "execution_count": 113
    }
   ],
   "source": [
    "df['Language'] = df['Description_clean'].apply(lambda x: detect_language(x))\n",
    "df['Language'].head()\n"
   ]
  },
  {
   "cell_type": "code",
   "execution_count": 114,
   "metadata": {},
   "outputs": [],
   "source": [
    "df.to_csv(\"validate.csv\")"
   ]
  },
  {
   "cell_type": "code",
   "execution_count": 119,
   "metadata": {},
   "outputs": [
    {
     "output_type": "execute_result",
     "data": {
      "text/plain": "'hallo es ist erneut passiert der pc hat sich zum wiederholten male aufgehängt und mir lediglich einen blauen bildschirm mit weisser schrift präsentiert was können wir da machen probleme bluescreen'"
     },
     "metadata": {},
     "execution_count": 119
    }
   ],
   "source": [
    "df['Description_clean'].iloc[223]"
   ]
  },
  {
   "cell_type": "code",
   "execution_count": null,
   "metadata": {},
   "outputs": [],
   "source": []
  }
 ],
 "metadata": {
  "language_info": {
   "codemirror_mode": {
    "name": "ipython",
    "version": 3
   },
   "file_extension": ".py",
   "mimetype": "text/x-python",
   "name": "python",
   "nbconvert_exporter": "python",
   "pygments_lexer": "ipython3",
   "version": "3.7.3-final"
  },
  "orig_nbformat": 2,
  "kernelspec": {
   "name": "python3",
   "display_name": "Python 3"
  }
 },
 "nbformat": 4,
 "nbformat_minor": 2
}